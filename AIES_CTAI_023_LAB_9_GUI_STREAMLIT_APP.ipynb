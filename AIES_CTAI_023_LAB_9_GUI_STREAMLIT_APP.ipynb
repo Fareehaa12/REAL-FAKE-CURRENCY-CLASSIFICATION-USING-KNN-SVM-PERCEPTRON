{
  "nbformat": 4,
  "nbformat_minor": 0,
  "metadata": {
    "colab": {
      "provenance": []
    },
    "kernelspec": {
      "name": "python3",
      "display_name": "Python 3"
    },
    "language_info": {
      "name": "python"
    }
  },
  "cells": [
    {
      "cell_type": "markdown",
      "source": [
        "REAL FAKE CURRENCY CLASSIFICATION STREAMLIT APP\n"
      ],
      "metadata": {
        "id": "qufgrCiRdf_T"
      }
    },
    {
      "cell_type": "code",
      "execution_count": 1,
      "metadata": {
        "colab": {
          "base_uri": "https://localhost:8080/"
        },
        "id": "l93qIIP1a8hh",
        "outputId": "fa81ca8d-8960-4cd8-d008-1445d9746e43"
      },
      "outputs": [
        {
          "output_type": "stream",
          "name": "stdout",
          "text": [
            "Cloning into 'REAL-FAKE-CURRENCY-CLASSIFICATION-USING-KNN-SVM-PERCEPTRON'...\n",
            "remote: Enumerating objects: 13, done.\u001b[K\n",
            "remote: Counting objects: 100% (13/13), done.\u001b[K\n",
            "remote: Compressing objects: 100% (13/13), done.\u001b[K\n",
            "remote: Total 13 (delta 1), reused 0 (delta 0), pack-reused 0 (from 0)\u001b[K\n",
            "Receiving objects: 100% (13/13), 782.02 KiB | 4.98 MiB/s, done.\n",
            "Resolving deltas: 100% (1/1), done.\n"
          ]
        }
      ],
      "source": [
        "!git clone https://github.com/Fareehaa12/REAL-FAKE-CURRENCY-CLASSIFICATION-USING-KNN-SVM-PERCEPTRON.git"
      ]
    },
    {
      "cell_type": "code",
      "source": [
        "# Step 1: Install the necessary packages\n",
        "!pip install pyngrok\n",
        "\n",
        "!pip install -r \"/content/REAL-FAKE-CURRENCY-CLASSIFICATION-USING-KNN-SVM-PERCEPTRON/req.txt\""
      ],
      "metadata": {
        "colab": {
          "base_uri": "https://localhost:8080/"
        },
        "id": "5TLQPtirbNv2",
        "outputId": "62bfd551-f549-49df-90f4-152ec7f57aad"
      },
      "execution_count": 2,
      "outputs": [
        {
          "output_type": "stream",
          "name": "stdout",
          "text": [
            "Collecting pyngrok\n",
            "  Downloading pyngrok-7.2.1-py3-none-any.whl.metadata (8.3 kB)\n",
            "Requirement already satisfied: PyYAML>=5.1 in /usr/local/lib/python3.10/dist-packages (from pyngrok) (6.0.2)\n",
            "Downloading pyngrok-7.2.1-py3-none-any.whl (22 kB)\n",
            "Installing collected packages: pyngrok\n",
            "Successfully installed pyngrok-7.2.1\n",
            "Requirement already satisfied: absl-py==1.4.0 in /usr/local/lib/python3.10/dist-packages (from -r /content/REAL-FAKE-CURRENCY-CLASSIFICATION-USING-KNN-SVM-PERCEPTRON/req.txt (line 1)) (1.4.0)\n",
            "Requirement already satisfied: accelerate==1.1.1 in /usr/local/lib/python3.10/dist-packages (from -r /content/REAL-FAKE-CURRENCY-CLASSIFICATION-USING-KNN-SVM-PERCEPTRON/req.txt (line 2)) (1.1.1)\n",
            "Requirement already satisfied: aiohappyeyeballs==2.4.3 in /usr/local/lib/python3.10/dist-packages (from -r /content/REAL-FAKE-CURRENCY-CLASSIFICATION-USING-KNN-SVM-PERCEPTRON/req.txt (line 3)) (2.4.3)\n",
            "Requirement already satisfied: aiohttp==3.11.2 in /usr/local/lib/python3.10/dist-packages (from -r /content/REAL-FAKE-CURRENCY-CLASSIFICATION-USING-KNN-SVM-PERCEPTRON/req.txt (line 4)) (3.11.2)\n",
            "Requirement already satisfied: aiosignal==1.3.1 in /usr/local/lib/python3.10/dist-packages (from -r /content/REAL-FAKE-CURRENCY-CLASSIFICATION-USING-KNN-SVM-PERCEPTRON/req.txt (line 5)) (1.3.1)\n",
            "Requirement already satisfied: alabaster==1.0.0 in /usr/local/lib/python3.10/dist-packages (from -r /content/REAL-FAKE-CURRENCY-CLASSIFICATION-USING-KNN-SVM-PERCEPTRON/req.txt (line 6)) (1.0.0)\n",
            "Requirement already satisfied: albucore==0.0.19 in /usr/local/lib/python3.10/dist-packages (from -r /content/REAL-FAKE-CURRENCY-CLASSIFICATION-USING-KNN-SVM-PERCEPTRON/req.txt (line 7)) (0.0.19)\n",
            "Requirement already satisfied: albumentations==1.4.20 in /usr/local/lib/python3.10/dist-packages (from -r /content/REAL-FAKE-CURRENCY-CLASSIFICATION-USING-KNN-SVM-PERCEPTRON/req.txt (line 8)) (1.4.20)\n",
            "Requirement already satisfied: altair==4.2.2 in /usr/local/lib/python3.10/dist-packages (from -r /content/REAL-FAKE-CURRENCY-CLASSIFICATION-USING-KNN-SVM-PERCEPTRON/req.txt (line 9)) (4.2.2)\n",
            "Requirement already satisfied: annotated-types==0.7.0 in /usr/local/lib/python3.10/dist-packages (from -r /content/REAL-FAKE-CURRENCY-CLASSIFICATION-USING-KNN-SVM-PERCEPTRON/req.txt (line 10)) (0.7.0)\n",
            "Requirement already satisfied: anyio==3.7.1 in /usr/local/lib/python3.10/dist-packages (from -r /content/REAL-FAKE-CURRENCY-CLASSIFICATION-USING-KNN-SVM-PERCEPTRON/req.txt (line 11)) (3.7.1)\n",
            "Requirement already satisfied: argon2-cffi==23.1.0 in /usr/local/lib/python3.10/dist-packages (from -r /content/REAL-FAKE-CURRENCY-CLASSIFICATION-USING-KNN-SVM-PERCEPTRON/req.txt (line 12)) (23.1.0)\n",
            "Requirement already satisfied: argon2-cffi-bindings==21.2.0 in /usr/local/lib/python3.10/dist-packages (from -r /content/REAL-FAKE-CURRENCY-CLASSIFICATION-USING-KNN-SVM-PERCEPTRON/req.txt (line 13)) (21.2.0)\n",
            "Requirement already satisfied: array_record==0.5.1 in /usr/local/lib/python3.10/dist-packages (from -r /content/REAL-FAKE-CURRENCY-CLASSIFICATION-USING-KNN-SVM-PERCEPTRON/req.txt (line 14)) (0.5.1)\n",
            "Requirement already satisfied: arviz==0.20.0 in /usr/local/lib/python3.10/dist-packages (from -r /content/REAL-FAKE-CURRENCY-CLASSIFICATION-USING-KNN-SVM-PERCEPTRON/req.txt (line 15)) (0.20.0)\n",
            "Requirement already satisfied: astropy==6.1.6 in /usr/local/lib/python3.10/dist-packages (from -r /content/REAL-FAKE-CURRENCY-CLASSIFICATION-USING-KNN-SVM-PERCEPTRON/req.txt (line 16)) (6.1.6)\n",
            "Requirement already satisfied: astropy-iers-data==0.2024.11.18.0.35.2 in /usr/local/lib/python3.10/dist-packages (from -r /content/REAL-FAKE-CURRENCY-CLASSIFICATION-USING-KNN-SVM-PERCEPTRON/req.txt (line 17)) (0.2024.11.18.0.35.2)\n",
            "Requirement already satisfied: astunparse==1.6.3 in /usr/local/lib/python3.10/dist-packages (from -r /content/REAL-FAKE-CURRENCY-CLASSIFICATION-USING-KNN-SVM-PERCEPTRON/req.txt (line 18)) (1.6.3)\n",
            "Requirement already satisfied: async-timeout==4.0.3 in /usr/local/lib/python3.10/dist-packages (from -r /content/REAL-FAKE-CURRENCY-CLASSIFICATION-USING-KNN-SVM-PERCEPTRON/req.txt (line 19)) (4.0.3)\n",
            "Requirement already satisfied: atpublic==4.1.0 in /usr/local/lib/python3.10/dist-packages (from -r /content/REAL-FAKE-CURRENCY-CLASSIFICATION-USING-KNN-SVM-PERCEPTRON/req.txt (line 20)) (4.1.0)\n",
            "Requirement already satisfied: attrs==24.2.0 in /usr/local/lib/python3.10/dist-packages (from -r /content/REAL-FAKE-CURRENCY-CLASSIFICATION-USING-KNN-SVM-PERCEPTRON/req.txt (line 21)) (24.2.0)\n",
            "Requirement already satisfied: audioread==3.0.1 in /usr/local/lib/python3.10/dist-packages (from -r /content/REAL-FAKE-CURRENCY-CLASSIFICATION-USING-KNN-SVM-PERCEPTRON/req.txt (line 22)) (3.0.1)\n",
            "Requirement already satisfied: autograd==1.7.0 in /usr/local/lib/python3.10/dist-packages (from -r /content/REAL-FAKE-CURRENCY-CLASSIFICATION-USING-KNN-SVM-PERCEPTRON/req.txt (line 23)) (1.7.0)\n",
            "Requirement already satisfied: babel==2.16.0 in /usr/local/lib/python3.10/dist-packages (from -r /content/REAL-FAKE-CURRENCY-CLASSIFICATION-USING-KNN-SVM-PERCEPTRON/req.txt (line 24)) (2.16.0)\n",
            "Requirement already satisfied: backcall==0.2.0 in /usr/local/lib/python3.10/dist-packages (from -r /content/REAL-FAKE-CURRENCY-CLASSIFICATION-USING-KNN-SVM-PERCEPTRON/req.txt (line 25)) (0.2.0)\n",
            "Requirement already satisfied: beautifulsoup4==4.12.3 in /usr/local/lib/python3.10/dist-packages (from -r /content/REAL-FAKE-CURRENCY-CLASSIFICATION-USING-KNN-SVM-PERCEPTRON/req.txt (line 26)) (4.12.3)\n",
            "Requirement already satisfied: bigframes==1.27.0 in /usr/local/lib/python3.10/dist-packages (from -r /content/REAL-FAKE-CURRENCY-CLASSIFICATION-USING-KNN-SVM-PERCEPTRON/req.txt (line 27)) (1.27.0)\n",
            "Requirement already satisfied: bigquery-magics==0.4.0 in /usr/local/lib/python3.10/dist-packages (from -r /content/REAL-FAKE-CURRENCY-CLASSIFICATION-USING-KNN-SVM-PERCEPTRON/req.txt (line 28)) (0.4.0)\n",
            "Requirement already satisfied: bleach==6.2.0 in /usr/local/lib/python3.10/dist-packages (from -r /content/REAL-FAKE-CURRENCY-CLASSIFICATION-USING-KNN-SVM-PERCEPTRON/req.txt (line 29)) (6.2.0)\n",
            "Requirement already satisfied: blinker==1.9.0 in /usr/local/lib/python3.10/dist-packages (from -r /content/REAL-FAKE-CURRENCY-CLASSIFICATION-USING-KNN-SVM-PERCEPTRON/req.txt (line 30)) (1.9.0)\n",
            "Requirement already satisfied: blis==0.7.11 in /usr/local/lib/python3.10/dist-packages (from -r /content/REAL-FAKE-CURRENCY-CLASSIFICATION-USING-KNN-SVM-PERCEPTRON/req.txt (line 31)) (0.7.11)\n",
            "Requirement already satisfied: blosc2==2.7.1 in /usr/local/lib/python3.10/dist-packages (from -r /content/REAL-FAKE-CURRENCY-CLASSIFICATION-USING-KNN-SVM-PERCEPTRON/req.txt (line 32)) (2.7.1)\n",
            "Requirement already satisfied: bokeh==3.6.1 in /usr/local/lib/python3.10/dist-packages (from -r /content/REAL-FAKE-CURRENCY-CLASSIFICATION-USING-KNN-SVM-PERCEPTRON/req.txt (line 33)) (3.6.1)\n",
            "Requirement already satisfied: Bottleneck==1.4.2 in /usr/local/lib/python3.10/dist-packages (from -r /content/REAL-FAKE-CURRENCY-CLASSIFICATION-USING-KNN-SVM-PERCEPTRON/req.txt (line 34)) (1.4.2)\n",
            "Requirement already satisfied: bqplot==0.12.43 in /usr/local/lib/python3.10/dist-packages (from -r /content/REAL-FAKE-CURRENCY-CLASSIFICATION-USING-KNN-SVM-PERCEPTRON/req.txt (line 35)) (0.12.43)\n",
            "Requirement already satisfied: branca==0.8.0 in /usr/local/lib/python3.10/dist-packages (from -r /content/REAL-FAKE-CURRENCY-CLASSIFICATION-USING-KNN-SVM-PERCEPTRON/req.txt (line 36)) (0.8.0)\n",
            "Requirement already satisfied: CacheControl==0.14.1 in /usr/local/lib/python3.10/dist-packages (from -r /content/REAL-FAKE-CURRENCY-CLASSIFICATION-USING-KNN-SVM-PERCEPTRON/req.txt (line 37)) (0.14.1)\n",
            "Requirement already satisfied: cachetools==5.5.0 in /usr/local/lib/python3.10/dist-packages (from -r /content/REAL-FAKE-CURRENCY-CLASSIFICATION-USING-KNN-SVM-PERCEPTRON/req.txt (line 38)) (5.5.0)\n",
            "Requirement already satisfied: catalogue==2.0.10 in /usr/local/lib/python3.10/dist-packages (from -r /content/REAL-FAKE-CURRENCY-CLASSIFICATION-USING-KNN-SVM-PERCEPTRON/req.txt (line 39)) (2.0.10)\n",
            "Requirement already satisfied: certifi==2024.8.30 in /usr/local/lib/python3.10/dist-packages (from -r /content/REAL-FAKE-CURRENCY-CLASSIFICATION-USING-KNN-SVM-PERCEPTRON/req.txt (line 40)) (2024.8.30)\n",
            "Requirement already satisfied: cffi==1.17.1 in /usr/local/lib/python3.10/dist-packages (from -r /content/REAL-FAKE-CURRENCY-CLASSIFICATION-USING-KNN-SVM-PERCEPTRON/req.txt (line 41)) (1.17.1)\n",
            "Requirement already satisfied: chardet==5.2.0 in /usr/local/lib/python3.10/dist-packages (from -r /content/REAL-FAKE-CURRENCY-CLASSIFICATION-USING-KNN-SVM-PERCEPTRON/req.txt (line 42)) (5.2.0)\n",
            "Requirement already satisfied: charset-normalizer==3.4.0 in /usr/local/lib/python3.10/dist-packages (from -r /content/REAL-FAKE-CURRENCY-CLASSIFICATION-USING-KNN-SVM-PERCEPTRON/req.txt (line 43)) (3.4.0)\n",
            "Requirement already satisfied: chex==0.1.87 in /usr/local/lib/python3.10/dist-packages (from -r /content/REAL-FAKE-CURRENCY-CLASSIFICATION-USING-KNN-SVM-PERCEPTRON/req.txt (line 44)) (0.1.87)\n",
            "Requirement already satisfied: clarabel==0.9.0 in /usr/local/lib/python3.10/dist-packages (from -r /content/REAL-FAKE-CURRENCY-CLASSIFICATION-USING-KNN-SVM-PERCEPTRON/req.txt (line 45)) (0.9.0)\n",
            "Requirement already satisfied: click==8.1.7 in /usr/local/lib/python3.10/dist-packages (from -r /content/REAL-FAKE-CURRENCY-CLASSIFICATION-USING-KNN-SVM-PERCEPTRON/req.txt (line 46)) (8.1.7)\n",
            "Requirement already satisfied: cloudpathlib==0.20.0 in /usr/local/lib/python3.10/dist-packages (from -r /content/REAL-FAKE-CURRENCY-CLASSIFICATION-USING-KNN-SVM-PERCEPTRON/req.txt (line 47)) (0.20.0)\n",
            "Requirement already satisfied: cloudpickle==3.1.0 in /usr/local/lib/python3.10/dist-packages (from -r /content/REAL-FAKE-CURRENCY-CLASSIFICATION-USING-KNN-SVM-PERCEPTRON/req.txt (line 48)) (3.1.0)\n",
            "Requirement already satisfied: cmake==3.30.5 in /usr/local/lib/python3.10/dist-packages (from -r /content/REAL-FAKE-CURRENCY-CLASSIFICATION-USING-KNN-SVM-PERCEPTRON/req.txt (line 49)) (3.30.5)\n",
            "Requirement already satisfied: cmdstanpy==1.2.4 in /usr/local/lib/python3.10/dist-packages (from -r /content/REAL-FAKE-CURRENCY-CLASSIFICATION-USING-KNN-SVM-PERCEPTRON/req.txt (line 50)) (1.2.4)\n",
            "Requirement already satisfied: colorcet==3.1.0 in /usr/local/lib/python3.10/dist-packages (from -r /content/REAL-FAKE-CURRENCY-CLASSIFICATION-USING-KNN-SVM-PERCEPTRON/req.txt (line 51)) (3.1.0)\n",
            "Requirement already satisfied: colorlover==0.3.0 in /usr/local/lib/python3.10/dist-packages (from -r /content/REAL-FAKE-CURRENCY-CLASSIFICATION-USING-KNN-SVM-PERCEPTRON/req.txt (line 52)) (0.3.0)\n",
            "Requirement already satisfied: colour==0.1.5 in /usr/local/lib/python3.10/dist-packages (from -r /content/REAL-FAKE-CURRENCY-CLASSIFICATION-USING-KNN-SVM-PERCEPTRON/req.txt (line 53)) (0.1.5)\n",
            "Requirement already satisfied: community==1.0.0b1 in /usr/local/lib/python3.10/dist-packages (from -r /content/REAL-FAKE-CURRENCY-CLASSIFICATION-USING-KNN-SVM-PERCEPTRON/req.txt (line 54)) (1.0.0b1)\n",
            "Requirement already satisfied: confection==0.1.5 in /usr/local/lib/python3.10/dist-packages (from -r /content/REAL-FAKE-CURRENCY-CLASSIFICATION-USING-KNN-SVM-PERCEPTRON/req.txt (line 55)) (0.1.5)\n",
            "Requirement already satisfied: cons==0.4.6 in /usr/local/lib/python3.10/dist-packages (from -r /content/REAL-FAKE-CURRENCY-CLASSIFICATION-USING-KNN-SVM-PERCEPTRON/req.txt (line 56)) (0.4.6)\n",
            "Requirement already satisfied: contourpy==1.3.1 in /usr/local/lib/python3.10/dist-packages (from -r /content/REAL-FAKE-CURRENCY-CLASSIFICATION-USING-KNN-SVM-PERCEPTRON/req.txt (line 57)) (1.3.1)\n",
            "Requirement already satisfied: cryptography==43.0.3 in /usr/local/lib/python3.10/dist-packages (from -r /content/REAL-FAKE-CURRENCY-CLASSIFICATION-USING-KNN-SVM-PERCEPTRON/req.txt (line 58)) (43.0.3)\n",
            "Requirement already satisfied: cuda-python==12.2.1 in /usr/local/lib/python3.10/dist-packages (from -r /content/REAL-FAKE-CURRENCY-CLASSIFICATION-USING-KNN-SVM-PERCEPTRON/req.txt (line 59)) (12.2.1)\n",
            "Requirement already satisfied: cudf-cu12==24.10.1 in /usr/local/lib/python3.10/dist-packages (from -r /content/REAL-FAKE-CURRENCY-CLASSIFICATION-USING-KNN-SVM-PERCEPTRON/req.txt (line 60)) (24.10.1)\n",
            "Requirement already satisfied: cufflinks==0.17.3 in /usr/local/lib/python3.10/dist-packages (from -r /content/REAL-FAKE-CURRENCY-CLASSIFICATION-USING-KNN-SVM-PERCEPTRON/req.txt (line 61)) (0.17.3)\n",
            "Requirement already satisfied: cupy-cuda12x==12.2.0 in /usr/local/lib/python3.10/dist-packages (from -r /content/REAL-FAKE-CURRENCY-CLASSIFICATION-USING-KNN-SVM-PERCEPTRON/req.txt (line 62)) (12.2.0)\n",
            "Requirement already satisfied: cvxopt==1.3.2 in /usr/local/lib/python3.10/dist-packages (from -r /content/REAL-FAKE-CURRENCY-CLASSIFICATION-USING-KNN-SVM-PERCEPTRON/req.txt (line 63)) (1.3.2)\n",
            "Requirement already satisfied: cvxpy==1.5.4 in /usr/local/lib/python3.10/dist-packages (from -r /content/REAL-FAKE-CURRENCY-CLASSIFICATION-USING-KNN-SVM-PERCEPTRON/req.txt (line 64)) (1.5.4)\n",
            "Requirement already satisfied: cycler==0.12.1 in /usr/local/lib/python3.10/dist-packages (from -r /content/REAL-FAKE-CURRENCY-CLASSIFICATION-USING-KNN-SVM-PERCEPTRON/req.txt (line 65)) (0.12.1)\n",
            "Requirement already satisfied: cymem==2.0.8 in /usr/local/lib/python3.10/dist-packages (from -r /content/REAL-FAKE-CURRENCY-CLASSIFICATION-USING-KNN-SVM-PERCEPTRON/req.txt (line 66)) (2.0.8)\n",
            "Requirement already satisfied: Cython==3.0.11 in /usr/local/lib/python3.10/dist-packages (from -r /content/REAL-FAKE-CURRENCY-CLASSIFICATION-USING-KNN-SVM-PERCEPTRON/req.txt (line 67)) (3.0.11)\n",
            "Requirement already satisfied: dask==2024.10.0 in /usr/local/lib/python3.10/dist-packages (from -r /content/REAL-FAKE-CURRENCY-CLASSIFICATION-USING-KNN-SVM-PERCEPTRON/req.txt (line 68)) (2024.10.0)\n",
            "Requirement already satisfied: datascience==0.17.6 in /usr/local/lib/python3.10/dist-packages (from -r /content/REAL-FAKE-CURRENCY-CLASSIFICATION-USING-KNN-SVM-PERCEPTRON/req.txt (line 69)) (0.17.6)\n",
            "Requirement already satisfied: db-dtypes==1.3.1 in /usr/local/lib/python3.10/dist-packages (from -r /content/REAL-FAKE-CURRENCY-CLASSIFICATION-USING-KNN-SVM-PERCEPTRON/req.txt (line 70)) (1.3.1)\n",
            "Requirement already satisfied: dbus-python==1.2.18 in /usr/lib/python3/dist-packages (from -r /content/REAL-FAKE-CURRENCY-CLASSIFICATION-USING-KNN-SVM-PERCEPTRON/req.txt (line 71)) (1.2.18)\n",
            "Requirement already satisfied: debugpy==1.8.0 in /usr/local/lib/python3.10/dist-packages (from -r /content/REAL-FAKE-CURRENCY-CLASSIFICATION-USING-KNN-SVM-PERCEPTRON/req.txt (line 72)) (1.8.0)\n",
            "Requirement already satisfied: decorator==4.4.2 in /usr/local/lib/python3.10/dist-packages (from -r /content/REAL-FAKE-CURRENCY-CLASSIFICATION-USING-KNN-SVM-PERCEPTRON/req.txt (line 73)) (4.4.2)\n",
            "Requirement already satisfied: defusedxml==0.7.1 in /usr/local/lib/python3.10/dist-packages (from -r /content/REAL-FAKE-CURRENCY-CLASSIFICATION-USING-KNN-SVM-PERCEPTRON/req.txt (line 74)) (0.7.1)\n",
            "Requirement already satisfied: Deprecated==1.2.15 in /usr/local/lib/python3.10/dist-packages (from -r /content/REAL-FAKE-CURRENCY-CLASSIFICATION-USING-KNN-SVM-PERCEPTRON/req.txt (line 75)) (1.2.15)\n",
            "Requirement already satisfied: diffusers==0.31.0 in /usr/local/lib/python3.10/dist-packages (from -r /content/REAL-FAKE-CURRENCY-CLASSIFICATION-USING-KNN-SVM-PERCEPTRON/req.txt (line 76)) (0.31.0)\n",
            "Requirement already satisfied: distro==1.9.0 in /usr/local/lib/python3.10/dist-packages (from -r /content/REAL-FAKE-CURRENCY-CLASSIFICATION-USING-KNN-SVM-PERCEPTRON/req.txt (line 77)) (1.9.0)\n",
            "Requirement already satisfied: dlib==19.24.2 in /usr/local/lib/python3.10/dist-packages (from -r /content/REAL-FAKE-CURRENCY-CLASSIFICATION-USING-KNN-SVM-PERCEPTRON/req.txt (line 78)) (19.24.2)\n",
            "Requirement already satisfied: dm-tree==0.1.8 in /usr/local/lib/python3.10/dist-packages (from -r /content/REAL-FAKE-CURRENCY-CLASSIFICATION-USING-KNN-SVM-PERCEPTRON/req.txt (line 79)) (0.1.8)\n",
            "Requirement already satisfied: docker-pycreds==0.4.0 in /usr/local/lib/python3.10/dist-packages (from -r /content/REAL-FAKE-CURRENCY-CLASSIFICATION-USING-KNN-SVM-PERCEPTRON/req.txt (line 80)) (0.4.0)\n",
            "Requirement already satisfied: docstring_parser==0.16 in /usr/local/lib/python3.10/dist-packages (from -r /content/REAL-FAKE-CURRENCY-CLASSIFICATION-USING-KNN-SVM-PERCEPTRON/req.txt (line 81)) (0.16)\n",
            "Requirement already satisfied: docutils==0.21.2 in /usr/local/lib/python3.10/dist-packages (from -r /content/REAL-FAKE-CURRENCY-CLASSIFICATION-USING-KNN-SVM-PERCEPTRON/req.txt (line 82)) (0.21.2)\n",
            "Requirement already satisfied: dopamine_rl==4.0.9 in /usr/local/lib/python3.10/dist-packages (from -r /content/REAL-FAKE-CURRENCY-CLASSIFICATION-USING-KNN-SVM-PERCEPTRON/req.txt (line 83)) (4.0.9)\n",
            "Requirement already satisfied: duckdb==1.1.3 in /usr/local/lib/python3.10/dist-packages (from -r /content/REAL-FAKE-CURRENCY-CLASSIFICATION-USING-KNN-SVM-PERCEPTRON/req.txt (line 84)) (1.1.3)\n",
            "Requirement already satisfied: earthengine-api==1.2.0 in /usr/local/lib/python3.10/dist-packages (from -r /content/REAL-FAKE-CURRENCY-CLASSIFICATION-USING-KNN-SVM-PERCEPTRON/req.txt (line 85)) (1.2.0)\n",
            "Requirement already satisfied: easydict==1.13 in /usr/local/lib/python3.10/dist-packages (from -r /content/REAL-FAKE-CURRENCY-CLASSIFICATION-USING-KNN-SVM-PERCEPTRON/req.txt (line 86)) (1.13)\n",
            "Requirement already satisfied: ecos==2.0.14 in /usr/local/lib/python3.10/dist-packages (from -r /content/REAL-FAKE-CURRENCY-CLASSIFICATION-USING-KNN-SVM-PERCEPTRON/req.txt (line 87)) (2.0.14)\n",
            "Requirement already satisfied: editdistance==0.8.1 in /usr/local/lib/python3.10/dist-packages (from -r /content/REAL-FAKE-CURRENCY-CLASSIFICATION-USING-KNN-SVM-PERCEPTRON/req.txt (line 88)) (0.8.1)\n",
            "Requirement already satisfied: eerepr==0.0.4 in /usr/local/lib/python3.10/dist-packages (from -r /content/REAL-FAKE-CURRENCY-CLASSIFICATION-USING-KNN-SVM-PERCEPTRON/req.txt (line 89)) (0.0.4)\n",
            "Requirement already satisfied: einops==0.8.0 in /usr/local/lib/python3.10/dist-packages (from -r /content/REAL-FAKE-CURRENCY-CLASSIFICATION-USING-KNN-SVM-PERCEPTRON/req.txt (line 90)) (0.8.0)\n",
            "Requirement already satisfied: en-core-web-sm==3.7.1 in /usr/local/lib/python3.10/dist-packages (from -r /content/REAL-FAKE-CURRENCY-CLASSIFICATION-USING-KNN-SVM-PERCEPTRON/req.txt (line 91)) (3.7.1)\n",
            "Requirement already satisfied: entrypoints==0.4 in /usr/local/lib/python3.10/dist-packages (from -r /content/REAL-FAKE-CURRENCY-CLASSIFICATION-USING-KNN-SVM-PERCEPTRON/req.txt (line 92)) (0.4)\n",
            "Requirement already satisfied: et_xmlfile==2.0.0 in /usr/local/lib/python3.10/dist-packages (from -r /content/REAL-FAKE-CURRENCY-CLASSIFICATION-USING-KNN-SVM-PERCEPTRON/req.txt (line 93)) (2.0.0)\n",
            "Requirement already satisfied: etils==1.10.0 in /usr/local/lib/python3.10/dist-packages (from -r /content/REAL-FAKE-CURRENCY-CLASSIFICATION-USING-KNN-SVM-PERCEPTRON/req.txt (line 94)) (1.10.0)\n",
            "Requirement already satisfied: etuples==0.3.9 in /usr/local/lib/python3.10/dist-packages (from -r /content/REAL-FAKE-CURRENCY-CLASSIFICATION-USING-KNN-SVM-PERCEPTRON/req.txt (line 95)) (0.3.9)\n",
            "Requirement already satisfied: eval_type_backport==0.2.0 in /usr/local/lib/python3.10/dist-packages (from -r /content/REAL-FAKE-CURRENCY-CLASSIFICATION-USING-KNN-SVM-PERCEPTRON/req.txt (line 96)) (0.2.0)\n",
            "Requirement already satisfied: exceptiongroup==1.2.2 in /usr/local/lib/python3.10/dist-packages (from -r /content/REAL-FAKE-CURRENCY-CLASSIFICATION-USING-KNN-SVM-PERCEPTRON/req.txt (line 97)) (1.2.2)\n",
            "Requirement already satisfied: fastai==2.7.18 in /usr/local/lib/python3.10/dist-packages (from -r /content/REAL-FAKE-CURRENCY-CLASSIFICATION-USING-KNN-SVM-PERCEPTRON/req.txt (line 98)) (2.7.18)\n",
            "Requirement already satisfied: fastcore==1.7.20 in /usr/local/lib/python3.10/dist-packages (from -r /content/REAL-FAKE-CURRENCY-CLASSIFICATION-USING-KNN-SVM-PERCEPTRON/req.txt (line 99)) (1.7.20)\n",
            "Requirement already satisfied: fastdownload==0.0.7 in /usr/local/lib/python3.10/dist-packages (from -r /content/REAL-FAKE-CURRENCY-CLASSIFICATION-USING-KNN-SVM-PERCEPTRON/req.txt (line 100)) (0.0.7)\n",
            "Requirement already satisfied: fastjsonschema==2.20.0 in /usr/local/lib/python3.10/dist-packages (from -r /content/REAL-FAKE-CURRENCY-CLASSIFICATION-USING-KNN-SVM-PERCEPTRON/req.txt (line 101)) (2.20.0)\n",
            "Requirement already satisfied: fastprogress==1.0.3 in /usr/local/lib/python3.10/dist-packages (from -r /content/REAL-FAKE-CURRENCY-CLASSIFICATION-USING-KNN-SVM-PERCEPTRON/req.txt (line 102)) (1.0.3)\n",
            "Requirement already satisfied: fastrlock==0.8.2 in /usr/local/lib/python3.10/dist-packages (from -r /content/REAL-FAKE-CURRENCY-CLASSIFICATION-USING-KNN-SVM-PERCEPTRON/req.txt (line 103)) (0.8.2)\n",
            "Requirement already satisfied: filelock==3.16.1 in /usr/local/lib/python3.10/dist-packages (from -r /content/REAL-FAKE-CURRENCY-CLASSIFICATION-USING-KNN-SVM-PERCEPTRON/req.txt (line 104)) (3.16.1)\n",
            "Requirement already satisfied: firebase-admin==6.5.0 in /usr/local/lib/python3.10/dist-packages (from -r /content/REAL-FAKE-CURRENCY-CLASSIFICATION-USING-KNN-SVM-PERCEPTRON/req.txt (line 105)) (6.5.0)\n",
            "Requirement already satisfied: Flask==3.0.3 in /usr/local/lib/python3.10/dist-packages (from -r /content/REAL-FAKE-CURRENCY-CLASSIFICATION-USING-KNN-SVM-PERCEPTRON/req.txt (line 106)) (3.0.3)\n",
            "Requirement already satisfied: flatbuffers==24.3.25 in /usr/local/lib/python3.10/dist-packages (from -r /content/REAL-FAKE-CURRENCY-CLASSIFICATION-USING-KNN-SVM-PERCEPTRON/req.txt (line 107)) (24.3.25)\n",
            "Requirement already satisfied: flax==0.8.5 in /usr/local/lib/python3.10/dist-packages (from -r /content/REAL-FAKE-CURRENCY-CLASSIFICATION-USING-KNN-SVM-PERCEPTRON/req.txt (line 108)) (0.8.5)\n",
            "Requirement already satisfied: folium==0.18.0 in /usr/local/lib/python3.10/dist-packages (from -r /content/REAL-FAKE-CURRENCY-CLASSIFICATION-USING-KNN-SVM-PERCEPTRON/req.txt (line 109)) (0.18.0)\n",
            "Requirement already satisfied: fonttools==4.55.0 in /usr/local/lib/python3.10/dist-packages (from -r /content/REAL-FAKE-CURRENCY-CLASSIFICATION-USING-KNN-SVM-PERCEPTRON/req.txt (line 110)) (4.55.0)\n",
            "Requirement already satisfied: frozendict==2.4.6 in /usr/local/lib/python3.10/dist-packages (from -r /content/REAL-FAKE-CURRENCY-CLASSIFICATION-USING-KNN-SVM-PERCEPTRON/req.txt (line 111)) (2.4.6)\n",
            "Requirement already satisfied: frozenlist==1.5.0 in /usr/local/lib/python3.10/dist-packages (from -r /content/REAL-FAKE-CURRENCY-CLASSIFICATION-USING-KNN-SVM-PERCEPTRON/req.txt (line 112)) (1.5.0)\n",
            "Requirement already satisfied: fsspec==2024.10.0 in /usr/local/lib/python3.10/dist-packages (from -r /content/REAL-FAKE-CURRENCY-CLASSIFICATION-USING-KNN-SVM-PERCEPTRON/req.txt (line 113)) (2024.10.0)\n",
            "Requirement already satisfied: future==1.0.0 in /usr/local/lib/python3.10/dist-packages (from -r /content/REAL-FAKE-CURRENCY-CLASSIFICATION-USING-KNN-SVM-PERCEPTRON/req.txt (line 114)) (1.0.0)\n",
            "Requirement already satisfied: gast==0.6.0 in /usr/local/lib/python3.10/dist-packages (from -r /content/REAL-FAKE-CURRENCY-CLASSIFICATION-USING-KNN-SVM-PERCEPTRON/req.txt (line 115)) (0.6.0)\n",
            "Requirement already satisfied: gcsfs==2024.10.0 in /usr/local/lib/python3.10/dist-packages (from -r /content/REAL-FAKE-CURRENCY-CLASSIFICATION-USING-KNN-SVM-PERCEPTRON/req.txt (line 116)) (2024.10.0)\n",
            "Requirement already satisfied: GDAL==3.6.4 in /usr/local/lib/python3.10/dist-packages (from -r /content/REAL-FAKE-CURRENCY-CLASSIFICATION-USING-KNN-SVM-PERCEPTRON/req.txt (line 117)) (3.6.4)\n",
            "Requirement already satisfied: gdown==5.2.0 in /usr/local/lib/python3.10/dist-packages (from -r /content/REAL-FAKE-CURRENCY-CLASSIFICATION-USING-KNN-SVM-PERCEPTRON/req.txt (line 118)) (5.2.0)\n",
            "Requirement already satisfied: geemap==0.35.1 in /usr/local/lib/python3.10/dist-packages (from -r /content/REAL-FAKE-CURRENCY-CLASSIFICATION-USING-KNN-SVM-PERCEPTRON/req.txt (line 119)) (0.35.1)\n",
            "Requirement already satisfied: gensim==4.3.3 in /usr/local/lib/python3.10/dist-packages (from -r /content/REAL-FAKE-CURRENCY-CLASSIFICATION-USING-KNN-SVM-PERCEPTRON/req.txt (line 120)) (4.3.3)\n",
            "Requirement already satisfied: geocoder==1.38.1 in /usr/local/lib/python3.10/dist-packages (from -r /content/REAL-FAKE-CURRENCY-CLASSIFICATION-USING-KNN-SVM-PERCEPTRON/req.txt (line 121)) (1.38.1)\n",
            "Requirement already satisfied: geographiclib==2.0 in /usr/local/lib/python3.10/dist-packages (from -r /content/REAL-FAKE-CURRENCY-CLASSIFICATION-USING-KNN-SVM-PERCEPTRON/req.txt (line 122)) (2.0)\n",
            "Requirement already satisfied: geopandas==1.0.1 in /usr/local/lib/python3.10/dist-packages (from -r /content/REAL-FAKE-CURRENCY-CLASSIFICATION-USING-KNN-SVM-PERCEPTRON/req.txt (line 123)) (1.0.1)\n",
            "Requirement already satisfied: geopy==2.4.1 in /usr/local/lib/python3.10/dist-packages (from -r /content/REAL-FAKE-CURRENCY-CLASSIFICATION-USING-KNN-SVM-PERCEPTRON/req.txt (line 124)) (2.4.1)\n",
            "Requirement already satisfied: gin-config==0.5.0 in /usr/local/lib/python3.10/dist-packages (from -r /content/REAL-FAKE-CURRENCY-CLASSIFICATION-USING-KNN-SVM-PERCEPTRON/req.txt (line 125)) (0.5.0)\n",
            "Requirement already satisfied: gitdb==4.0.11 in /usr/local/lib/python3.10/dist-packages (from -r /content/REAL-FAKE-CURRENCY-CLASSIFICATION-USING-KNN-SVM-PERCEPTRON/req.txt (line 126)) (4.0.11)\n",
            "Requirement already satisfied: GitPython==3.1.43 in /usr/local/lib/python3.10/dist-packages (from -r /content/REAL-FAKE-CURRENCY-CLASSIFICATION-USING-KNN-SVM-PERCEPTRON/req.txt (line 127)) (3.1.43)\n",
            "Requirement already satisfied: glob2==0.7 in /usr/local/lib/python3.10/dist-packages (from -r /content/REAL-FAKE-CURRENCY-CLASSIFICATION-USING-KNN-SVM-PERCEPTRON/req.txt (line 128)) (0.7)\n",
            "Requirement already satisfied: google==2.0.3 in /usr/local/lib/python3.10/dist-packages (from -r /content/REAL-FAKE-CURRENCY-CLASSIFICATION-USING-KNN-SVM-PERCEPTRON/req.txt (line 129)) (2.0.3)\n",
            "Requirement already satisfied: google-ai-generativelanguage==0.6.10 in /usr/local/lib/python3.10/dist-packages (from -r /content/REAL-FAKE-CURRENCY-CLASSIFICATION-USING-KNN-SVM-PERCEPTRON/req.txt (line 130)) (0.6.10)\n",
            "Requirement already satisfied: google-api-core==2.19.2 in /usr/local/lib/python3.10/dist-packages (from -r /content/REAL-FAKE-CURRENCY-CLASSIFICATION-USING-KNN-SVM-PERCEPTRON/req.txt (line 131)) (2.19.2)\n",
            "Requirement already satisfied: google-api-python-client==2.151.0 in /usr/local/lib/python3.10/dist-packages (from -r /content/REAL-FAKE-CURRENCY-CLASSIFICATION-USING-KNN-SVM-PERCEPTRON/req.txt (line 132)) (2.151.0)\n",
            "Requirement already satisfied: google-auth==2.27.0 in /usr/local/lib/python3.10/dist-packages (from -r /content/REAL-FAKE-CURRENCY-CLASSIFICATION-USING-KNN-SVM-PERCEPTRON/req.txt (line 133)) (2.27.0)\n",
            "Requirement already satisfied: google-auth-httplib2==0.2.0 in /usr/local/lib/python3.10/dist-packages (from -r /content/REAL-FAKE-CURRENCY-CLASSIFICATION-USING-KNN-SVM-PERCEPTRON/req.txt (line 134)) (0.2.0)\n",
            "Requirement already satisfied: google-auth-oauthlib==1.2.1 in /usr/local/lib/python3.10/dist-packages (from -r /content/REAL-FAKE-CURRENCY-CLASSIFICATION-USING-KNN-SVM-PERCEPTRON/req.txt (line 135)) (1.2.1)\n",
            "Requirement already satisfied: google-cloud-aiplatform==1.71.1 in /usr/local/lib/python3.10/dist-packages (from -r /content/REAL-FAKE-CURRENCY-CLASSIFICATION-USING-KNN-SVM-PERCEPTRON/req.txt (line 136)) (1.71.1)\n",
            "Requirement already satisfied: google-cloud-bigquery==3.25.0 in /usr/local/lib/python3.10/dist-packages (from -r /content/REAL-FAKE-CURRENCY-CLASSIFICATION-USING-KNN-SVM-PERCEPTRON/req.txt (line 137)) (3.25.0)\n",
            "Requirement already satisfied: google-cloud-bigquery-connection==1.16.1 in /usr/local/lib/python3.10/dist-packages (from -r /content/REAL-FAKE-CURRENCY-CLASSIFICATION-USING-KNN-SVM-PERCEPTRON/req.txt (line 138)) (1.16.1)\n",
            "Requirement already satisfied: google-cloud-bigquery-storage==2.27.0 in /usr/local/lib/python3.10/dist-packages (from -r /content/REAL-FAKE-CURRENCY-CLASSIFICATION-USING-KNN-SVM-PERCEPTRON/req.txt (line 139)) (2.27.0)\n",
            "Requirement already satisfied: google-cloud-bigtable==2.27.0 in /usr/local/lib/python3.10/dist-packages (from -r /content/REAL-FAKE-CURRENCY-CLASSIFICATION-USING-KNN-SVM-PERCEPTRON/req.txt (line 140)) (2.27.0)\n",
            "Requirement already satisfied: google-cloud-core==2.4.1 in /usr/local/lib/python3.10/dist-packages (from -r /content/REAL-FAKE-CURRENCY-CLASSIFICATION-USING-KNN-SVM-PERCEPTRON/req.txt (line 141)) (2.4.1)\n",
            "Requirement already satisfied: google-cloud-datastore==2.20.1 in /usr/local/lib/python3.10/dist-packages (from -r /content/REAL-FAKE-CURRENCY-CLASSIFICATION-USING-KNN-SVM-PERCEPTRON/req.txt (line 142)) (2.20.1)\n",
            "Requirement already satisfied: google-cloud-firestore==2.19.0 in /usr/local/lib/python3.10/dist-packages (from -r /content/REAL-FAKE-CURRENCY-CLASSIFICATION-USING-KNN-SVM-PERCEPTRON/req.txt (line 143)) (2.19.0)\n",
            "Requirement already satisfied: google-cloud-functions==1.18.1 in /usr/local/lib/python3.10/dist-packages (from -r /content/REAL-FAKE-CURRENCY-CLASSIFICATION-USING-KNN-SVM-PERCEPTRON/req.txt (line 144)) (1.18.1)\n",
            "Requirement already satisfied: google-cloud-iam==2.16.1 in /usr/local/lib/python3.10/dist-packages (from -r /content/REAL-FAKE-CURRENCY-CLASSIFICATION-USING-KNN-SVM-PERCEPTRON/req.txt (line 145)) (2.16.1)\n",
            "Requirement already satisfied: google-cloud-language==2.15.1 in /usr/local/lib/python3.10/dist-packages (from -r /content/REAL-FAKE-CURRENCY-CLASSIFICATION-USING-KNN-SVM-PERCEPTRON/req.txt (line 146)) (2.15.1)\n",
            "Requirement already satisfied: google-cloud-pubsub==2.27.1 in /usr/local/lib/python3.10/dist-packages (from -r /content/REAL-FAKE-CURRENCY-CLASSIFICATION-USING-KNN-SVM-PERCEPTRON/req.txt (line 147)) (2.27.1)\n",
            "Requirement already satisfied: google-cloud-resource-manager==1.13.1 in /usr/local/lib/python3.10/dist-packages (from -r /content/REAL-FAKE-CURRENCY-CLASSIFICATION-USING-KNN-SVM-PERCEPTRON/req.txt (line 148)) (1.13.1)\n",
            "Requirement already satisfied: google-cloud-storage==2.8.0 in /usr/local/lib/python3.10/dist-packages (from -r /content/REAL-FAKE-CURRENCY-CLASSIFICATION-USING-KNN-SVM-PERCEPTRON/req.txt (line 149)) (2.8.0)\n",
            "Requirement already satisfied: google-cloud-translate==3.17.0 in /usr/local/lib/python3.10/dist-packages (from -r /content/REAL-FAKE-CURRENCY-CLASSIFICATION-USING-KNN-SVM-PERCEPTRON/req.txt (line 150)) (3.17.0)\n",
            "Requirement already satisfied: google-colab==1.0.0 in /usr/local/lib/python3.10/dist-packages (from -r /content/REAL-FAKE-CURRENCY-CLASSIFICATION-USING-KNN-SVM-PERCEPTRON/req.txt (line 151)) (1.0.0)\n",
            "Requirement already satisfied: google-crc32c==1.6.0 in /usr/local/lib/python3.10/dist-packages (from -r /content/REAL-FAKE-CURRENCY-CLASSIFICATION-USING-KNN-SVM-PERCEPTRON/req.txt (line 152)) (1.6.0)\n",
            "Requirement already satisfied: google-generativeai==0.8.3 in /usr/local/lib/python3.10/dist-packages (from -r /content/REAL-FAKE-CURRENCY-CLASSIFICATION-USING-KNN-SVM-PERCEPTRON/req.txt (line 153)) (0.8.3)\n",
            "Requirement already satisfied: google-pasta==0.2.0 in /usr/local/lib/python3.10/dist-packages (from -r /content/REAL-FAKE-CURRENCY-CLASSIFICATION-USING-KNN-SVM-PERCEPTRON/req.txt (line 154)) (0.2.0)\n",
            "Requirement already satisfied: google-resumable-media==2.7.2 in /usr/local/lib/python3.10/dist-packages (from -r /content/REAL-FAKE-CURRENCY-CLASSIFICATION-USING-KNN-SVM-PERCEPTRON/req.txt (line 155)) (2.7.2)\n",
            "Requirement already satisfied: googleapis-common-protos==1.66.0 in /usr/local/lib/python3.10/dist-packages (from -r /content/REAL-FAKE-CURRENCY-CLASSIFICATION-USING-KNN-SVM-PERCEPTRON/req.txt (line 156)) (1.66.0)\n",
            "Requirement already satisfied: googledrivedownloader==0.4 in /usr/local/lib/python3.10/dist-packages (from -r /content/REAL-FAKE-CURRENCY-CLASSIFICATION-USING-KNN-SVM-PERCEPTRON/req.txt (line 157)) (0.4)\n",
            "Requirement already satisfied: graphviz==0.20.3 in /usr/local/lib/python3.10/dist-packages (from -r /content/REAL-FAKE-CURRENCY-CLASSIFICATION-USING-KNN-SVM-PERCEPTRON/req.txt (line 158)) (0.20.3)\n",
            "Requirement already satisfied: greenlet==3.1.1 in /usr/local/lib/python3.10/dist-packages (from -r /content/REAL-FAKE-CURRENCY-CLASSIFICATION-USING-KNN-SVM-PERCEPTRON/req.txt (line 159)) (3.1.1)\n",
            "Requirement already satisfied: grpc-google-iam-v1==0.13.1 in /usr/local/lib/python3.10/dist-packages (from -r /content/REAL-FAKE-CURRENCY-CLASSIFICATION-USING-KNN-SVM-PERCEPTRON/req.txt (line 160)) (0.13.1)\n",
            "Requirement already satisfied: grpcio==1.68.0 in /usr/local/lib/python3.10/dist-packages (from -r /content/REAL-FAKE-CURRENCY-CLASSIFICATION-USING-KNN-SVM-PERCEPTRON/req.txt (line 161)) (1.68.0)\n",
            "Requirement already satisfied: grpcio-status==1.62.3 in /usr/local/lib/python3.10/dist-packages (from -r /content/REAL-FAKE-CURRENCY-CLASSIFICATION-USING-KNN-SVM-PERCEPTRON/req.txt (line 162)) (1.62.3)\n",
            "Requirement already satisfied: gspread==6.0.2 in /usr/local/lib/python3.10/dist-packages (from -r /content/REAL-FAKE-CURRENCY-CLASSIFICATION-USING-KNN-SVM-PERCEPTRON/req.txt (line 163)) (6.0.2)\n",
            "Requirement already satisfied: gspread-dataframe==3.3.1 in /usr/local/lib/python3.10/dist-packages (from -r /content/REAL-FAKE-CURRENCY-CLASSIFICATION-USING-KNN-SVM-PERCEPTRON/req.txt (line 164)) (3.3.1)\n",
            "Requirement already satisfied: gym==0.25.2 in /usr/local/lib/python3.10/dist-packages (from -r /content/REAL-FAKE-CURRENCY-CLASSIFICATION-USING-KNN-SVM-PERCEPTRON/req.txt (line 165)) (0.25.2)\n",
            "Requirement already satisfied: gym-notices==0.0.8 in /usr/local/lib/python3.10/dist-packages (from -r /content/REAL-FAKE-CURRENCY-CLASSIFICATION-USING-KNN-SVM-PERCEPTRON/req.txt (line 166)) (0.0.8)\n",
            "Requirement already satisfied: h11==0.14.0 in /usr/local/lib/python3.10/dist-packages (from -r /content/REAL-FAKE-CURRENCY-CLASSIFICATION-USING-KNN-SVM-PERCEPTRON/req.txt (line 167)) (0.14.0)\n",
            "Requirement already satisfied: h5netcdf==1.4.1 in /usr/local/lib/python3.10/dist-packages (from -r /content/REAL-FAKE-CURRENCY-CLASSIFICATION-USING-KNN-SVM-PERCEPTRON/req.txt (line 168)) (1.4.1)\n",
            "Requirement already satisfied: h5py==3.12.1 in /usr/local/lib/python3.10/dist-packages (from -r /content/REAL-FAKE-CURRENCY-CLASSIFICATION-USING-KNN-SVM-PERCEPTRON/req.txt (line 169)) (3.12.1)\n",
            "Requirement already satisfied: holidays==0.61 in /usr/local/lib/python3.10/dist-packages (from -r /content/REAL-FAKE-CURRENCY-CLASSIFICATION-USING-KNN-SVM-PERCEPTRON/req.txt (line 170)) (0.61)\n",
            "Requirement already satisfied: holoviews==1.20.0 in /usr/local/lib/python3.10/dist-packages (from -r /content/REAL-FAKE-CURRENCY-CLASSIFICATION-USING-KNN-SVM-PERCEPTRON/req.txt (line 171)) (1.20.0)\n",
            "Requirement already satisfied: html5lib==1.1 in /usr/local/lib/python3.10/dist-packages (from -r /content/REAL-FAKE-CURRENCY-CLASSIFICATION-USING-KNN-SVM-PERCEPTRON/req.txt (line 172)) (1.1)\n",
            "Requirement already satisfied: httpcore==1.0.7 in /usr/local/lib/python3.10/dist-packages (from -r /content/REAL-FAKE-CURRENCY-CLASSIFICATION-USING-KNN-SVM-PERCEPTRON/req.txt (line 173)) (1.0.7)\n",
            "Requirement already satisfied: httpimport==1.4.0 in /usr/local/lib/python3.10/dist-packages (from -r /content/REAL-FAKE-CURRENCY-CLASSIFICATION-USING-KNN-SVM-PERCEPTRON/req.txt (line 174)) (1.4.0)\n",
            "Requirement already satisfied: httplib2==0.22.0 in /usr/local/lib/python3.10/dist-packages (from -r /content/REAL-FAKE-CURRENCY-CLASSIFICATION-USING-KNN-SVM-PERCEPTRON/req.txt (line 175)) (0.22.0)\n",
            "Requirement already satisfied: httpx==0.27.2 in /usr/local/lib/python3.10/dist-packages (from -r /content/REAL-FAKE-CURRENCY-CLASSIFICATION-USING-KNN-SVM-PERCEPTRON/req.txt (line 176)) (0.27.2)\n",
            "Requirement already satisfied: huggingface-hub==0.26.2 in /usr/local/lib/python3.10/dist-packages (from -r /content/REAL-FAKE-CURRENCY-CLASSIFICATION-USING-KNN-SVM-PERCEPTRON/req.txt (line 177)) (0.26.2)\n",
            "Requirement already satisfied: humanize==4.11.0 in /usr/local/lib/python3.10/dist-packages (from -r /content/REAL-FAKE-CURRENCY-CLASSIFICATION-USING-KNN-SVM-PERCEPTRON/req.txt (line 178)) (4.11.0)\n",
            "Requirement already satisfied: hyperopt==0.2.7 in /usr/local/lib/python3.10/dist-packages (from -r /content/REAL-FAKE-CURRENCY-CLASSIFICATION-USING-KNN-SVM-PERCEPTRON/req.txt (line 179)) (0.2.7)\n",
            "Requirement already satisfied: ibis-framework==9.2.0 in /usr/local/lib/python3.10/dist-packages (from -r /content/REAL-FAKE-CURRENCY-CLASSIFICATION-USING-KNN-SVM-PERCEPTRON/req.txt (line 180)) (9.2.0)\n",
            "Requirement already satisfied: idna==3.10 in /usr/local/lib/python3.10/dist-packages (from -r /content/REAL-FAKE-CURRENCY-CLASSIFICATION-USING-KNN-SVM-PERCEPTRON/req.txt (line 181)) (3.10)\n",
            "Requirement already satisfied: imageio==2.36.0 in /usr/local/lib/python3.10/dist-packages (from -r /content/REAL-FAKE-CURRENCY-CLASSIFICATION-USING-KNN-SVM-PERCEPTRON/req.txt (line 182)) (2.36.0)\n",
            "Requirement already satisfied: imageio-ffmpeg==0.5.1 in /usr/local/lib/python3.10/dist-packages (from -r /content/REAL-FAKE-CURRENCY-CLASSIFICATION-USING-KNN-SVM-PERCEPTRON/req.txt (line 183)) (0.5.1)\n",
            "Requirement already satisfied: imagesize==1.4.1 in /usr/local/lib/python3.10/dist-packages (from -r /content/REAL-FAKE-CURRENCY-CLASSIFICATION-USING-KNN-SVM-PERCEPTRON/req.txt (line 184)) (1.4.1)\n",
            "Requirement already satisfied: imbalanced-learn==0.12.4 in /usr/local/lib/python3.10/dist-packages (from -r /content/REAL-FAKE-CURRENCY-CLASSIFICATION-USING-KNN-SVM-PERCEPTRON/req.txt (line 185)) (0.12.4)\n",
            "Requirement already satisfied: imgaug==0.4.0 in /usr/local/lib/python3.10/dist-packages (from -r /content/REAL-FAKE-CURRENCY-CLASSIFICATION-USING-KNN-SVM-PERCEPTRON/req.txt (line 186)) (0.4.0)\n",
            "Requirement already satisfied: immutabledict==4.2.1 in /usr/local/lib/python3.10/dist-packages (from -r /content/REAL-FAKE-CURRENCY-CLASSIFICATION-USING-KNN-SVM-PERCEPTRON/req.txt (line 187)) (4.2.1)\n",
            "Requirement already satisfied: importlib_metadata==8.5.0 in /usr/local/lib/python3.10/dist-packages (from -r /content/REAL-FAKE-CURRENCY-CLASSIFICATION-USING-KNN-SVM-PERCEPTRON/req.txt (line 188)) (8.5.0)\n",
            "Requirement already satisfied: importlib_resources==6.4.5 in /usr/local/lib/python3.10/dist-packages (from -r /content/REAL-FAKE-CURRENCY-CLASSIFICATION-USING-KNN-SVM-PERCEPTRON/req.txt (line 189)) (6.4.5)\n",
            "Requirement already satisfied: imutils==0.5.4 in /usr/local/lib/python3.10/dist-packages (from -r /content/REAL-FAKE-CURRENCY-CLASSIFICATION-USING-KNN-SVM-PERCEPTRON/req.txt (line 190)) (0.5.4)\n",
            "Requirement already satisfied: inflect==7.4.0 in /usr/local/lib/python3.10/dist-packages (from -r /content/REAL-FAKE-CURRENCY-CLASSIFICATION-USING-KNN-SVM-PERCEPTRON/req.txt (line 191)) (7.4.0)\n",
            "Requirement already satisfied: iniconfig==2.0.0 in /usr/local/lib/python3.10/dist-packages (from -r /content/REAL-FAKE-CURRENCY-CLASSIFICATION-USING-KNN-SVM-PERCEPTRON/req.txt (line 192)) (2.0.0)\n",
            "Requirement already satisfied: intel-cmplr-lib-ur==2025.0.0 in /usr/local/lib/python3.10/dist-packages (from -r /content/REAL-FAKE-CURRENCY-CLASSIFICATION-USING-KNN-SVM-PERCEPTRON/req.txt (line 193)) (2025.0.0)\n",
            "Requirement already satisfied: intel-openmp==2025.0.0 in /usr/local/lib/python3.10/dist-packages (from -r /content/REAL-FAKE-CURRENCY-CLASSIFICATION-USING-KNN-SVM-PERCEPTRON/req.txt (line 194)) (2025.0.0)\n",
            "Requirement already satisfied: ipyevents==2.0.2 in /usr/local/lib/python3.10/dist-packages (from -r /content/REAL-FAKE-CURRENCY-CLASSIFICATION-USING-KNN-SVM-PERCEPTRON/req.txt (line 195)) (2.0.2)\n",
            "Requirement already satisfied: ipyfilechooser==0.6.0 in /usr/local/lib/python3.10/dist-packages (from -r /content/REAL-FAKE-CURRENCY-CLASSIFICATION-USING-KNN-SVM-PERCEPTRON/req.txt (line 196)) (0.6.0)\n",
            "Requirement already satisfied: ipykernel==5.5.6 in /usr/local/lib/python3.10/dist-packages (from -r /content/REAL-FAKE-CURRENCY-CLASSIFICATION-USING-KNN-SVM-PERCEPTRON/req.txt (line 197)) (5.5.6)\n",
            "Requirement already satisfied: ipyleaflet==0.19.2 in /usr/local/lib/python3.10/dist-packages (from -r /content/REAL-FAKE-CURRENCY-CLASSIFICATION-USING-KNN-SVM-PERCEPTRON/req.txt (line 198)) (0.19.2)\n",
            "Requirement already satisfied: ipython==7.34.0 in /usr/local/lib/python3.10/dist-packages (from -r /content/REAL-FAKE-CURRENCY-CLASSIFICATION-USING-KNN-SVM-PERCEPTRON/req.txt (line 199)) (7.34.0)\n",
            "Requirement already satisfied: ipython-genutils==0.2.0 in /usr/local/lib/python3.10/dist-packages (from -r /content/REAL-FAKE-CURRENCY-CLASSIFICATION-USING-KNN-SVM-PERCEPTRON/req.txt (line 200)) (0.2.0)\n",
            "Requirement already satisfied: ipython-sql==0.5.0 in /usr/local/lib/python3.10/dist-packages (from -r /content/REAL-FAKE-CURRENCY-CLASSIFICATION-USING-KNN-SVM-PERCEPTRON/req.txt (line 201)) (0.5.0)\n",
            "Requirement already satisfied: ipytree==0.2.2 in /usr/local/lib/python3.10/dist-packages (from -r /content/REAL-FAKE-CURRENCY-CLASSIFICATION-USING-KNN-SVM-PERCEPTRON/req.txt (line 202)) (0.2.2)\n",
            "Requirement already satisfied: ipywidgets==7.7.1 in /usr/local/lib/python3.10/dist-packages (from -r /content/REAL-FAKE-CURRENCY-CLASSIFICATION-USING-KNN-SVM-PERCEPTRON/req.txt (line 203)) (7.7.1)\n",
            "Requirement already satisfied: itsdangerous==2.2.0 in /usr/local/lib/python3.10/dist-packages (from -r /content/REAL-FAKE-CURRENCY-CLASSIFICATION-USING-KNN-SVM-PERCEPTRON/req.txt (line 204)) (2.2.0)\n",
            "Requirement already satisfied: jax==0.4.33 in /usr/local/lib/python3.10/dist-packages (from -r /content/REAL-FAKE-CURRENCY-CLASSIFICATION-USING-KNN-SVM-PERCEPTRON/req.txt (line 205)) (0.4.33)\n",
            "Requirement already satisfied: jax-cuda12-pjrt==0.4.33 in /usr/local/lib/python3.10/dist-packages (from -r /content/REAL-FAKE-CURRENCY-CLASSIFICATION-USING-KNN-SVM-PERCEPTRON/req.txt (line 206)) (0.4.33)\n",
            "Requirement already satisfied: jax-cuda12-plugin==0.4.33 in /usr/local/lib/python3.10/dist-packages (from -r /content/REAL-FAKE-CURRENCY-CLASSIFICATION-USING-KNN-SVM-PERCEPTRON/req.txt (line 207)) (0.4.33)\n",
            "Requirement already satisfied: jaxlib==0.4.33 in /usr/local/lib/python3.10/dist-packages (from -r /content/REAL-FAKE-CURRENCY-CLASSIFICATION-USING-KNN-SVM-PERCEPTRON/req.txt (line 208)) (0.4.33)\n",
            "Requirement already satisfied: jieba==0.42.1 in /usr/local/lib/python3.10/dist-packages (from -r /content/REAL-FAKE-CURRENCY-CLASSIFICATION-USING-KNN-SVM-PERCEPTRON/req.txt (line 209)) (0.42.1)\n",
            "Collecting joblib==1.3.2 (from -r /content/REAL-FAKE-CURRENCY-CLASSIFICATION-USING-KNN-SVM-PERCEPTRON/req.txt (line 210))\n",
            "  Downloading joblib-1.3.2-py3-none-any.whl.metadata (5.4 kB)\n",
            "Collecting jupyter==1.0.0 (from -r /content/REAL-FAKE-CURRENCY-CLASSIFICATION-USING-KNN-SVM-PERCEPTRON/req.txt (line 211))\n",
            "  Downloading jupyter-1.0.0-py2.py3-none-any.whl.metadata (995 bytes)\n",
            "Collecting jupyter-client==8.2.0 (from -r /content/REAL-FAKE-CURRENCY-CLASSIFICATION-USING-KNN-SVM-PERCEPTRON/req.txt (line 212))\n",
            "  Downloading jupyter_client-8.2.0-py3-none-any.whl.metadata (8.5 kB)\n",
            "Collecting jupyter-console==6.4.3 (from -r /content/REAL-FAKE-CURRENCY-CLASSIFICATION-USING-KNN-SVM-PERCEPTRON/req.txt (line 213))\n",
            "  Downloading jupyter_console-6.4.3-py3-none-any.whl.metadata (1.2 kB)\n",
            "Collecting jupyter-core==5.3.0 (from -r /content/REAL-FAKE-CURRENCY-CLASSIFICATION-USING-KNN-SVM-PERCEPTRON/req.txt (line 214))\n",
            "  Downloading jupyter_core-5.3.0-py3-none-any.whl.metadata (3.4 kB)\n",
            "Collecting jupyterlab==4.0.3 (from -r /content/REAL-FAKE-CURRENCY-CLASSIFICATION-USING-KNN-SVM-PERCEPTRON/req.txt (line 215))\n",
            "  Downloading jupyterlab-4.0.3-py3-none-any.whl.metadata (15 kB)\n",
            "Collecting jupyterlab-pygments==0.2.2 (from -r /content/REAL-FAKE-CURRENCY-CLASSIFICATION-USING-KNN-SVM-PERCEPTRON/req.txt (line 216))\n",
            "  Downloading jupyterlab_pygments-0.2.2-py2.py3-none-any.whl.metadata (1.9 kB)\n",
            "Collecting jupyterlab-widgets==3.0.0 (from -r /content/REAL-FAKE-CURRENCY-CLASSIFICATION-USING-KNN-SVM-PERCEPTRON/req.txt (line 217))\n",
            "  Downloading jupyterlab_widgets-3.0.0-py3-none-any.whl.metadata (4.1 kB)\n",
            "Collecting kaggle==1.5.12 (from -r /content/REAL-FAKE-CURRENCY-CLASSIFICATION-USING-KNN-SVM-PERCEPTRON/req.txt (line 218))\n",
            "  Downloading kaggle-1.5.12.tar.gz (58 kB)\n",
            "\u001b[2K     \u001b[90m━━━━━━━━━━━━━━━━━━━━━━━━━━━━━━━━━━━━━━━━\u001b[0m \u001b[32m59.0/59.0 kB\u001b[0m \u001b[31m4.7 MB/s\u001b[0m eta \u001b[36m0:00:00\u001b[0m\n",
            "\u001b[?25h  Preparing metadata (setup.py) ... \u001b[?25l\u001b[?25hdone\n",
            "Collecting kaleido==0.2.1 (from -r /content/REAL-FAKE-CURRENCY-CLASSIFICATION-USING-KNN-SVM-PERCEPTRON/req.txt (line 219))\n",
            "  Downloading kaleido-0.2.1-py2.py3-none-manylinux1_x86_64.whl.metadata (15 kB)\n",
            "\u001b[31mERROR: Could not find a version that satisfies the requirement keras==2.18.0 (from versions: 0.2.0, 0.3.0, 0.3.1, 0.3.2, 0.3.3, 1.0.0, 1.0.1, 1.0.2, 1.0.3, 1.0.4, 1.0.5, 1.0.6, 1.0.7, 1.0.8, 1.1.0, 1.1.1, 1.1.2, 1.2.0, 1.2.1, 1.2.2, 2.0.0, 2.0.1, 2.0.2, 2.0.3, 2.0.4, 2.0.5, 2.0.6, 2.0.7, 2.0.8, 2.0.9, 2.1.0, 2.1.1, 2.1.2, 2.1.3, 2.1.4, 2.1.5, 2.1.6, 2.2.0, 2.2.1, 2.2.2, 2.2.3, 2.2.4, 2.2.5, 2.3.0, 2.3.1, 2.4.0, 2.4.1, 2.4.2, 2.4.3, 2.5.0rc0, 2.6.0rc0, 2.6.0rc1, 2.6.0rc2, 2.6.0rc3, 2.6.0, 2.7.0rc0, 2.7.0rc2, 2.7.0, 2.8.0rc0, 2.8.0rc1, 2.8.0, 2.9.0rc0, 2.9.0rc1, 2.9.0rc2, 2.9.0, 2.10.0rc0, 2.10.0rc1, 2.10.0, 2.11.0rc0, 2.11.0rc1, 2.11.0rc2, 2.11.0rc3, 2.11.0, 2.12.0rc0, 2.12.0rc1, 2.12.0, 2.13.1rc0, 2.13.1rc1, 2.13.1, 2.14.0rc0, 2.14.0, 2.15.0rc0, 2.15.0rc1, 2.15.0, 3.0.0, 3.0.1, 3.0.2, 3.0.3, 3.0.4, 3.0.5, 3.1.0, 3.1.1, 3.2.0, 3.2.1, 3.3.0, 3.3.1, 3.3.2, 3.3.3, 3.4.0, 3.4.1, 3.5.0, 3.6.0, 3.7.0)\u001b[0m\u001b[31m\n",
            "\u001b[0m\u001b[31mERROR: No matching distribution found for keras==2.18.0\u001b[0m\u001b[31m\n",
            "\u001b[0m"
          ]
        }
      ]
    },
    {
      "cell_type": "code",
      "source": [
        "import os\n",
        "from threading import Thread\n",
        "from pyngrok import ngrok"
      ],
      "metadata": {
        "id": "WhGGrskUbZYW"
      },
      "execution_count": 3,
      "outputs": []
    },
    {
      "cell_type": "code",
      "source": [
        "# Add your ngrok token here\n",
        "ngrok.set_auth_token('2ocIzVYr3Jqt7fCNpat3Y7jQ8hC_5Qvn3htnuAGs3BePaAFLU')"
      ],
      "metadata": {
        "id": "xfxrp7qYbc7G"
      },
      "execution_count": 8,
      "outputs": []
    },
    {
      "cell_type": "code",
      "source": [
        "def run_streamlit():\n",
        "    # Change the port if 8501 is already in use or if you prefer another port\n",
        "    os.system('streamlit run /content/REAL-FAKE-CURRENCY-CLASSIFICATION-USING-KNN-SVM-PERCEPTRON/app.py --server.port 8501')"
      ],
      "metadata": {
        "id": "VBUhWQOAbhnH"
      },
      "execution_count": 9,
      "outputs": []
    },
    {
      "cell_type": "code",
      "source": [
        "# Start a thread to run the Streamlit app\n",
        "thread = Thread(target=run_streamlit)\n",
        "thread.start()"
      ],
      "metadata": {
        "id": "ozHyhpxZbtwd"
      },
      "execution_count": 10,
      "outputs": []
    },
    {
      "cell_type": "code",
      "source": [
        "# Open a tunnel to the streamlit port 8501\n",
        "public_url = ngrok.connect(addr='8501', proto='http', bind_tls=True)\n",
        "print('Your Streamlit app is live at:', public_url)"
      ],
      "metadata": {
        "colab": {
          "base_uri": "https://localhost:8080/"
        },
        "id": "0CCNhbi-bx1K",
        "outputId": "1063e012-f9f7-447e-d5c0-5a05055ce354"
      },
      "execution_count": 11,
      "outputs": [
        {
          "output_type": "stream",
          "name": "stdout",
          "text": [
            "Your Streamlit app is live at: NgrokTunnel: \"https://3f14-34-31-90-25.ngrok-free.app\" -> \"http://localhost:8501\"\n"
          ]
        }
      ]
    },
    {
      "cell_type": "markdown",
      "source": [
        "TO RUN THE APP CLICK THE LOCAL HOST LINK GIVEN ABOVE"
      ],
      "metadata": {
        "id": "2WG0MgLUeV3Z"
      }
    }
  ]
}